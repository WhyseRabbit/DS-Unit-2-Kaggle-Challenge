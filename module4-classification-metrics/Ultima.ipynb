{
 "cells": [
  {
   "cell_type": "code",
   "execution_count": null,
   "metadata": {},
   "outputs": [],
   "source": [
    "import pandas as pd\n",
    "\n",
    "files = [\n",
    "    'data/whyse-submission2 (81.43).csv',\n",
    "    'data/whyse-submission2 (81.62).csv',\n",
    "    'data/whyse-submission2 (82.28).csv',\n",
    "    'data/whyse-submission3 (81.38).csv',\n",
    "    'data/whyse-submission3 (82.25).csv',\n",
    "    'data/whyse-submission3 (82.55).csv',\n",
    "    'data/whyse-submission4.csv',\n",
    "]\n",
    "submissions = (pd.read_csv(file)[['ratingCategory']] for file in files)\n",
    "ensemble = pd.concat(submissions, axis='columns')\n",
    "majority_vote = ensemble.mode(axis='columns')[0]\n",
    "test = pd.read_csv(\"data/test.csv\")\n",
    "submission = pd.DataFrame({'id': test['id'], 'ratingCategory': test['id']})\n",
    "submission['ratingCategory'] = majority_vote.astype('int64')\n",
    "submission.to_csv('submission-ultra-2.csv', index=False)"
   ]
  }
 ],
 "metadata": {
  "kernelspec": {
   "display_name": "Python 3",
   "language": "python",
   "name": "python3"
  },
  "language_info": {
   "codemirror_mode": {
    "name": "ipython",
    "version": 3
   },
   "file_extension": ".py",
   "mimetype": "text/x-python",
   "name": "python",
   "nbconvert_exporter": "python",
   "pygments_lexer": "ipython3",
   "version": "3.7.6"
  }
 },
 "nbformat": 4,
 "nbformat_minor": 4
}
